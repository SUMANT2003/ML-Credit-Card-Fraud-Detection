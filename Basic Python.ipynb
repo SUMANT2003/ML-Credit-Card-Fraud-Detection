{
 "cells": [
  {
   "cell_type": "code",
   "execution_count": 3,
   "id": "d697363a",
   "metadata": {},
   "outputs": [],
   "source": [
    "# Strip leading and trailing spaces from string\n",
    "\n",
    "\n",
    "string1 = '    Hello World      '\n",
    "\n",
    "s = string1.strip()"
   ]
  },
  {
   "cell_type": "code",
   "execution_count": 4,
   "id": "5401f75f",
   "metadata": {},
   "outputs": [
    {
     "data": {
      "text/plain": [
       "'Hello World'"
      ]
     },
     "execution_count": 4,
     "metadata": {},
     "output_type": "execute_result"
    }
   ],
   "source": [
    "s"
   ]
  },
  {
   "cell_type": "code",
   "execution_count": 5,
   "id": "62feba95",
   "metadata": {},
   "outputs": [
    {
     "data": {
      "text/plain": [
       "'Hello Everyone'"
      ]
     },
     "execution_count": 5,
     "metadata": {},
     "output_type": "execute_result"
    }
   ],
   "source": [
    "s.replace('World', 'Everyone')"
   ]
  },
  {
   "cell_type": "code",
   "execution_count": 6,
   "id": "2a688ea8",
   "metadata": {},
   "outputs": [
    {
     "data": {
      "text/plain": [
       "['sample', 'string']"
      ]
     },
     "execution_count": 6,
     "metadata": {},
     "output_type": "execute_result"
    }
   ],
   "source": [
    "s = 'sample string'\n",
    "s.split()"
   ]
  },
  {
   "cell_type": "code",
   "execution_count": 7,
   "id": "4b22c933",
   "metadata": {},
   "outputs": [
    {
     "data": {
      "text/plain": [
       "['sample string1', ' sample string2']"
      ]
     },
     "execution_count": 7,
     "metadata": {},
     "output_type": "execute_result"
    }
   ],
   "source": [
    "s1 = 'sample string1, sample string2'\n",
    "s1.split(',')"
   ]
  },
  {
   "cell_type": "code",
   "execution_count": 8,
   "id": "35ed5600",
   "metadata": {},
   "outputs": [
    {
     "data": {
      "text/plain": [
       "['', 'abd', 'kajd', 'kajs']"
      ]
     },
     "execution_count": 8,
     "metadata": {},
     "output_type": "execute_result"
    }
   ],
   "source": [
    "sline = '''\n",
    "abd\n",
    "kajd\n",
    "kajs\n",
    "'''\n",
    "sline.splitlines()"
   ]
  },
  {
   "cell_type": "code",
   "execution_count": 11,
   "id": "105ad72a",
   "metadata": {},
   "outputs": [
    {
     "data": {
      "text/plain": [
       "'dssdas'"
      ]
     },
     "execution_count": 11,
     "metadata": {},
     "output_type": "execute_result"
    }
   ],
   "source": [
    "s1 = 'dssd'\n",
    "s2 = 'as'\n",
    "s3 = s1+s2\n",
    "s3"
   ]
  },
  {
   "cell_type": "code",
   "execution_count": 12,
   "id": "77dd9f3c",
   "metadata": {},
   "outputs": [
    {
     "data": {
      "text/plain": [
       "'123'"
      ]
     },
     "execution_count": 12,
     "metadata": {},
     "output_type": "execute_result"
    }
   ],
   "source": [
    "# casting\n",
    "\n",
    "num = 123\n",
    "str1 = str(123)\n",
    "str1"
   ]
  },
  {
   "cell_type": "code",
   "execution_count": 13,
   "id": "6a71ac73",
   "metadata": {},
   "outputs": [
    {
     "data": {
      "text/plain": [
       "'I am 25 years old'"
      ]
     },
     "execution_count": 13,
     "metadata": {},
     "output_type": "execute_result"
    }
   ],
   "source": [
    "# format\n",
    "string1 = 'I am {} years old'\n",
    "age = 25\n",
    "\n",
    "string1.format(age)"
   ]
  },
  {
   "cell_type": "code",
   "execution_count": 17,
   "id": "31874faf",
   "metadata": {},
   "outputs": [
    {
     "data": {
      "text/plain": [
       "\"My name is 'Kadambari'\""
      ]
     },
     "execution_count": 17,
     "metadata": {},
     "output_type": "execute_result"
    }
   ],
   "source": [
    "# escape characters\n",
    "\n",
    "string1 = \"My name is \\'Kadambari\\'\"\n",
    "string1"
   ]
  },
  {
   "cell_type": "code",
   "execution_count": 19,
   "id": "35eb7eb2",
   "metadata": {},
   "outputs": [
    {
     "data": {
      "text/plain": [
       "1"
      ]
     },
     "execution_count": 19,
     "metadata": {},
     "output_type": "execute_result"
    }
   ],
   "source": [
    "string1.count('M')"
   ]
  },
  {
   "cell_type": "code",
   "execution_count": 20,
   "id": "dd10272c",
   "metadata": {},
   "outputs": [
    {
     "data": {
      "text/plain": [
       "'abcdefghi'"
      ]
     },
     "execution_count": 20,
     "metadata": {},
     "output_type": "execute_result"
    }
   ],
   "source": [
    "tuple = (\"abc\",\"def\",\"ghi\")\n",
    "''.join(tuple)"
   ]
  },
  {
   "cell_type": "code",
   "execution_count": 21,
   "id": "af8c3d6d",
   "metadata": {},
   "outputs": [
    {
     "data": {
      "text/plain": [
       "'abc-def-ghi'"
      ]
     },
     "execution_count": 21,
     "metadata": {},
     "output_type": "execute_result"
    }
   ],
   "source": [
    "'-'.join(tuple)"
   ]
  },
  {
   "cell_type": "code",
   "execution_count": 24,
   "id": "8b4f8dbf",
   "metadata": {},
   "outputs": [
    {
     "data": {
      "text/plain": [
       "\"'irabmadaK' si eman yM\""
      ]
     },
     "execution_count": 24,
     "metadata": {},
     "output_type": "execute_result"
    }
   ],
   "source": [
    "string1[::-1]"
   ]
  },
  {
   "cell_type": "code",
   "execution_count": 25,
   "id": "cf19a6c6",
   "metadata": {},
   "outputs": [
    {
     "data": {
      "text/plain": [
       "22"
      ]
     },
     "execution_count": 25,
     "metadata": {},
     "output_type": "execute_result"
    }
   ],
   "source": [
    "len(string1)"
   ]
  },
  {
   "cell_type": "code",
   "execution_count": 30,
   "id": "b9691f09",
   "metadata": {},
   "outputs": [
    {
     "name": "stdout",
     "output_type": "stream",
     "text": [
      "M\n",
      "y\n",
      " \n",
      "n\n",
      "a\n",
      "m\n",
      "e\n",
      " \n",
      "i\n",
      "s\n",
      " \n",
      "'\n",
      "K\n",
      "a\n",
      "d\n",
      "a\n",
      "m\n",
      "b\n",
      "a\n",
      "r\n",
      "i\n",
      "'\n"
     ]
    }
   ],
   "source": [
    "for x in string1:\n",
    "    print(x)"
   ]
  },
  {
   "cell_type": "code",
   "execution_count": null,
   "id": "88fef731",
   "metadata": {},
   "outputs": [],
   "source": []
  }
 ],
 "metadata": {
  "kernelspec": {
   "display_name": "Python 3 (ipykernel)",
   "language": "python",
   "name": "python3"
  },
  "language_info": {
   "codemirror_mode": {
    "name": "ipython",
    "version": 3
   },
   "file_extension": ".py",
   "mimetype": "text/x-python",
   "name": "python",
   "nbconvert_exporter": "python",
   "pygments_lexer": "ipython3",
   "version": "3.11.4"
  }
 },
 "nbformat": 4,
 "nbformat_minor": 5
}
